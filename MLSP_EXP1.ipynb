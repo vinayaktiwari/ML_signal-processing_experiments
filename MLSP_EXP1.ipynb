{
 "cells": [
  {
   "cell_type": "code",
   "execution_count": 1,
   "metadata": {},
   "outputs": [
    {
     "name": "stdout",
     "output_type": "stream",
     "text": [
      "[[-0.582978  ]\n",
      " [-0.27967551]\n",
      " [-0.99988563]]\n",
      "Ending Weights After Training: \n",
      "[[-0.36500168]\n",
      " [-0.21602447]\n",
      " [-0.87184738]]\n",
      "User Input One: 1\n",
      "User Input Two: 0\n",
      "User Input Three: 1\n",
      "Considering New Situation:  1 0 1\n",
      "New Output data: \n",
      "[0.22498493]\n",
      "VALUE IS PREDICTED SUCCESSFULLY\n"
     ]
    }
   ],
   "source": [
    "import pandas as pd    #for reading outside data and data analysis\n",
    "import numpy as np      #for dealing with linear algebra and maths\n",
    "import matplotlib.pyplot as plt #For visualisation , graphs if needed\n",
    "\n",
    "# Constructing the most  basic artificial neaural network class\n",
    "class ANN():\n",
    "    def __init__(self):\n",
    "        np.random.seed(1)\n",
    "        self.weights = np.random.random((3,1))-1\n",
    "        \n",
    "    def sigmoid_function(self,x):\n",
    "        return 1/(1+np.exp(-x))\n",
    "    \n",
    "    def derivative_sigmoid(self,x):\n",
    "        return x*(1-x)\n",
    "    \n",
    "    def brain(self,inputs):\n",
    "        inputs = inputs.astype(float)\n",
    "        output = self.sigmoid_function(np.dot(inputs,self.weights))\n",
    "        return output\n",
    "    \n",
    "    def training(self,train_inputs,train_outputs,iterations):\n",
    "        for i in range(iterations):\n",
    "            output = self.brain(train_inputs)\n",
    "            error = train_outputs - output\n",
    "            weight_adjustment = np.dot(train_inputs.T,error*self.derivative_sigmoid(output))\n",
    "            self.weights = weight_adjustment+self.weights\n",
    "            return output\n",
    "        \n",
    "ann = ANN() #creating ann object\n",
    "\n",
    "print(ann.weights)\n",
    "train_inputs = np.array([[0,0,1],\n",
    "                        [1,1,1],\n",
    "                        [1,0,1],\n",
    "                        [0,1,1]])\n",
    "\n",
    "train_outputs = np.array([[0,1,1,0]]).T\n",
    "ann.training(train_inputs,train_outputs,10000)\n",
    "print(\"Ending Weights After Training: \")\n",
    "print(ann.weights)\n",
    "user_bit_one = str(input(\"User Input One: \"))\n",
    "user_bit_two = str(input(\"User Input Two: \"))\n",
    "user_bit_three = str(input(\"User Input Three: \"))\n",
    "    \n",
    "print(\"Considering New Situation: \", user_bit_one, user_bit_two, user_bit_three)\n",
    "print(\"New Output data: \")\n",
    "print(ann.brain(np.array([user_bit_one, user_bit_two, user_bit_three])))\n",
    "print(\"VALUE IS PREDICTED SUCCESSFULLY\")\n",
    "\n",
    "             \n",
    "           \n",
    "    "
   ]
  },
  {
   "cell_type": "code",
   "execution_count": null,
   "metadata": {},
   "outputs": [],
   "source": []
  }
 ],
 "metadata": {
  "kernelspec": {
   "display_name": "Python 3",
   "language": "python",
   "name": "python3"
  },
  "language_info": {
   "codemirror_mode": {
    "name": "ipython",
    "version": 3
   },
   "file_extension": ".py",
   "mimetype": "text/x-python",
   "name": "python",
   "nbconvert_exporter": "python",
   "pygments_lexer": "ipython3",
   "version": "3.8.5"
  }
 },
 "nbformat": 4,
 "nbformat_minor": 4
}
